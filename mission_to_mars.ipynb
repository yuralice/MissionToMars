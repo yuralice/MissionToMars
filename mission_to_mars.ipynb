{
 "cells": [
  {
   "cell_type": "code",
   "execution_count": 264,
   "metadata": {},
   "outputs": [],
   "source": [
    "# Dependencies\n",
    "import pymongo\n",
    "import pandas as pd\n",
    "conn = 'mongodb://localhost:27017'\n",
    "client = pymongo.MongoClient(conn)\n",
    "from bs4 import BeautifulSoup\n",
    "import requests\n",
    "from splinter import Browser\n",
    "import numpy as np\n",
    "from pprint import pprint\n",
    "import time"
   ]
  },
  {
   "cell_type": "markdown",
   "metadata": {},
   "source": [
    "### NASA Mars News"
   ]
  },
  {
   "cell_type": "code",
   "execution_count": 35,
   "metadata": {},
   "outputs": [],
   "source": [
    "# URL of page to be scraped\n",
    "url = 'https://mars.nasa.gov/news/'"
   ]
  },
  {
   "cell_type": "code",
   "execution_count": 36,
   "metadata": {},
   "outputs": [],
   "source": [
    "# Retrieve page with the requests module\n",
    "response = requests.get(url)"
   ]
  },
  {
   "cell_type": "code",
   "execution_count": 37,
   "metadata": {},
   "outputs": [],
   "source": [
    "# Create BeautifulSoup object; parse with 'html.parser'\n",
    "soup = BeautifulSoup(response.text, 'html.parser')"
   ]
  },
  {
   "cell_type": "code",
   "execution_count": 38,
   "metadata": {},
   "outputs": [
    {
     "name": "stdout",
     "output_type": "stream",
     "text": [
      "NASA's Opportunity Rover Mission on Mars Comes to End\n",
      "NASA's Opportunity Mars rover mission is complete after 15 years on Mars. Opportunity's record-breaking exploration laid the groundwork for future missions to the Red Planet.\n"
     ]
    }
   ],
   "source": [
    "# Examine the results, then determine element that contains sought info\n",
    "#print(soup.prettify())\n",
    "#news_title = soup.find(\"div\", {\"class\":\"content_title\"}).find(\"a\").text.strip()\n",
    "news_title = soup.find('div', class_='content_title').text.strip()\n",
    "news_p = soup.find(\"div\", class_=\"rollover_description_inner\").text.strip()\n",
    "print(news_title)\n",
    "print(news_p)"
   ]
  },
  {
   "cell_type": "markdown",
   "metadata": {},
   "source": [
    "### JPL Mars Space Images - Featured Image"
   ]
  },
  {
   "cell_type": "code",
   "execution_count": 160,
   "metadata": {},
   "outputs": [],
   "source": [
    "# URL of page to be scraped\n",
    "executable_path = {'executable_path':'./chromedriver.exe'}  \n",
    "browser = Browser(\"chrome\", **executable_path, headless=False)\n",
    "#browser = init_browser()\n",
    "    # URL of page to be scraped\n",
    "url = 'https://www.jpl.nasa.gov/spaceimages/?search=&category=Mars'\n",
    "browser.visit(url)\n",
    "browser.click_link_by_id('full_image')\n",
    "html = browser.html\n",
    "soup = BeautifulSoup(html, \"html.parser\")"
   ]
  },
  {
   "cell_type": "code",
   "execution_count": 161,
   "metadata": {},
   "outputs": [
    {
     "name": "stdout",
     "output_type": "stream",
     "text": [
      "https://www.jpl.nasa.gov/spaceimages/?search=&category=Mars/spaceimages/images/wallpaper/PIA16694-1920x1200.jpg\n"
     ]
    }
   ],
   "source": [
    "#print(soup.prettify())\n",
    "full_article =soup.find('article', class_=\"carousel_item\")\n",
    "#print(full_article)\n",
    "trim_article = full_article['style'].lstrip(\"background-image: url('\")\n",
    "relative_path = trim_article.strip(\"'');\")\n",
    "relative_path = relative_path.strip (\"'\")\n",
    "#print(url)\n",
    "#print(relative_path)\n",
    "featured_image_url = url + relative_path\n",
    "print(featured_image_url)"
   ]
  },
  {
   "cell_type": "code",
   "execution_count": 123,
   "metadata": {},
   "outputs": [],
   "source": [
    "#if soup.find(\"meta\", property= \"og:description\")is not None:\n",
    "#    relative_path = soup.find(\"img\", class_=\"fancybox-image\")\n",
    "#rel_path = soup.find(\"img\", class_ = \"fancybox-inner fancybox-skin fancybox-dark-skin fancybox-dark-skin-open\")\n",
    "#print(rel_path[\"src\"])\n"
   ]
  },
  {
   "cell_type": "markdown",
   "metadata": {},
   "source": [
    "### Mars Weather"
   ]
  },
  {
   "cell_type": "code",
   "execution_count": 144,
   "metadata": {},
   "outputs": [
    {
     "data": {
      "text/plain": [
       "'InSight sol 88 (2019-02-25) low -95.2ºC (-139.4ºF) high -17.8ºC (0.0ºF)winds from the SW at 5.2 m/s (11.6 mph) gusting to 19.8 m/s (44.3 mph)pressure at 7.20'"
      ]
     },
     "execution_count": 144,
     "metadata": {},
     "output_type": "execute_result"
    }
   ],
   "source": [
    "# URL of page to be scraped\n",
    "url = 'https://twitter.com/marswxreport?lang=en'\n",
    "# Retrieve page with the requests module\n",
    "response = requests.get(url)\n",
    "# Create BeautifulSoup object; parse with 'html.parser'\n",
    "soup = BeautifulSoup(response.text, 'html.parser')\n",
    "#print(soup.prettify())\n",
    "\n",
    "weather = soup.find(\"p\", class_=\"TweetTextSize TweetTextSize--normal js-tweet-text tweet-text\").text.strip()\n",
    "weather_clean = weather.rstrip(\" hPapic.twitter.com/1msjBvhiu7'\")\n",
    "weather_clean = weather_clean.replace('\\n','')\n",
    "mars_weather = weather_clean\n",
    "mars_weather"
   ]
  },
  {
   "cell_type": "markdown",
   "metadata": {},
   "source": [
    "### Mars Facts"
   ]
  },
  {
   "cell_type": "code",
   "execution_count": 152,
   "metadata": {},
   "outputs": [
    {
     "data": {
      "text/plain": [
       "[                      0                              1\n",
       " 0  Equatorial Diameter:                       6,792 km\n",
       " 1       Polar Diameter:                       6,752 km\n",
       " 2                 Mass:  6.42 x 10^23 kg (10.7% Earth)\n",
       " 3                Moons:            2 (Phobos & Deimos)\n",
       " 4       Orbit Distance:       227,943,824 km (1.52 AU)\n",
       " 5         Orbit Period:           687 days (1.9 years)\n",
       " 6  Surface Temperature:                  -153 to 20 °C\n",
       " 7         First Record:              2nd millennium BC\n",
       " 8          Recorded By:           Egyptian astronomers]"
      ]
     },
     "execution_count": 152,
     "metadata": {},
     "output_type": "execute_result"
    }
   ],
   "source": [
    "# URL of page to be scraped\n",
    "url = 'https://space-facts.com/mars/'\n",
    "# Retrieve page with the requests module\n",
    "response = requests.get(url)\n",
    "# Create BeautifulSoup object; parse with 'html.parser'\n",
    "soup = BeautifulSoup(response.text, 'html.parser')\n",
    "#print(soup.prettify())\n",
    "\n",
    "mars_facts_df = pd.read_html(url)\n",
    "mars_facts_df  \n",
    "#df.to_html(classes=None, border=None, justify=None)"
   ]
  },
  {
   "cell_type": "markdown",
   "metadata": {},
   "source": [
    "### Mars Hemispheres"
   ]
  },
  {
   "cell_type": "code",
   "execution_count": 284,
   "metadata": {},
   "outputs": [],
   "source": [
    "# URL of page to be scraped\n",
    "executable_path = {'executable_path':'./chromedriver.exe'}  \n",
    "browser = Browser(\"chrome\", **executable_path, headless=False)\n",
    "#browser = init_browser()\n",
    "    # URL of page to be scraped\n",
    "url = 'https://astrogeology.usgs.gov/search/results?q=hemisphere+enhanced&k1=target&v1=Mars'\n",
    "browser.visit(url)\n",
    "html = browser.html\n",
    "soup = BeautifulSoup(html, \"html.parser\")\n",
    "#browser.click_link_by_id('full_image')\n",
    "#print(soup.prettify())\n"
   ]
  },
  {
   "cell_type": "code",
   "execution_count": 286,
   "metadata": {},
   "outputs": [
    {
     "name": "stdout",
     "output_type": "stream",
     "text": [
      "https://astropedia.astrogeology.usgs.gov/download/Mars/Viking/cerberus_enhanced.tif/full.jpg\n",
      "https://astropedia.astrogeology.usgs.gov/download/Mars/Viking/schiaparelli_enhanced.tif/full.jpg\n",
      "https://astropedia.astrogeology.usgs.gov/download/Mars/Viking/syrtis_major_enhanced.tif/full.jpg\n",
      "https://astropedia.astrogeology.usgs.gov/download/Mars/Viking/valles_marineris_enhanced.tif/full.jpg\n",
      "[{'atitle': 'Cerberus Hemisphere',\n",
      "  'image_url': 'https://astropedia.astrogeology.usgs.gov/download/Mars/Viking/cerberus_enhanced.tif/full.jpg'},\n",
      " {'atitle': 'Schiaparelli Hemisphere',\n",
      "  'image_url': 'https://astropedia.astrogeology.usgs.gov/download/Mars/Viking/schiaparelli_enhanced.tif/full.jpg'},\n",
      " {'atitle': 'Syrtis Major Hemisphere',\n",
      "  'image_url': 'https://astropedia.astrogeology.usgs.gov/download/Mars/Viking/syrtis_major_enhanced.tif/full.jpg'},\n",
      " {'atitle': 'Valles Marineris Hemisphere',\n",
      "  'image_url': 'https://astropedia.astrogeology.usgs.gov/download/Mars/Viking/valles_marineris_enhanced.tif/full.jpg'}]\n"
     ]
    }
   ],
   "source": [
    "hemisphere_list = []\n",
    "\n",
    "for counter,x in enumerate(soup.find_all(\"a\",class_ = \"itemLink product-item\"),1):\n",
    "    for img in x.find_all(\"img\", alt=True):\n",
    "        hemisphere_dictionary = {}\n",
    "        scraped_title = (img['alt'])\n",
    "        cleaned_title = scraped_title.replace(' Enhanced thumbnail','')\n",
    "        img_clean_title = scraped_title.replace(' Hemisphere','')\n",
    "        img_clean_title = img_clean_title.replace(' thumbnail','')\n",
    "        img_clean_title = img_clean_title.replace(' ','_') \n",
    "\n",
    "       #print(cleaned_title)\n",
    "        hemisphere_dictionary['atitle'] = cleaned_title\n",
    "        #print(img_clean_title)\n",
    "        executable_path = {'executable_path':'./chromedriver.exe'}  \n",
    "        browser = Browser(\"chrome\", **executable_path, headless=False)\n",
    "        img_url = 'https://astrogeology.usgs.gov/search/map/Mars/Viking/'+img_clean_title\n",
    "        #print(img_url)\n",
    "        browser.visit(img_url)\n",
    "        time.sleep(1)\n",
    "        browser.find_link_by_text('Sample').first.click()\n",
    "        time.sleep(1)\n",
    "        browser.windows.current = browser.windows[-1] #the image window is set as the current window\n",
    "        img_html = browser.html  #the html for the image window is pulled\n",
    "        browser.windows[0].close() # closes the original window,leaving only the image window\n",
    "        img_soup = BeautifulSoup(img_html, \"html.parser\")\n",
    "        #pprint(img_soup)\n",
    "        #print(img_html)\n",
    "        #print(img_soup)\n",
    "        final_img_url = img_soup.find('img')['src']\n",
    "        print(final_img_url)\n",
    "        hemisphere_dictionary['image_url'] = final_img_url\n",
    "        \n",
    "        hemisphere_list.append(hemisphere_dictionary)\n",
    "        \n",
    "pprint(hemisphere_list)\n"
   ]
  },
  {
   "cell_type": "code",
   "execution_count": 287,
   "metadata": {},
   "outputs": [
    {
     "name": "stdout",
     "output_type": "stream",
     "text": [
      "[{'atitle': 'Cerberus Hemisphere',\n",
      "  'image_url': 'https://astropedia.astrogeology.usgs.gov/download/Mars/Viking/cerberus_enhanced.tif/full.jpg'},\n",
      " {'atitle': 'Schiaparelli Hemisphere',\n",
      "  'image_url': 'https://astropedia.astrogeology.usgs.gov/download/Mars/Viking/schiaparelli_enhanced.tif/full.jpg'},\n",
      " {'atitle': 'Syrtis Major Hemisphere',\n",
      "  'image_url': 'https://astropedia.astrogeology.usgs.gov/download/Mars/Viking/syrtis_major_enhanced.tif/full.jpg'},\n",
      " {'atitle': 'Valles Marineris Hemisphere',\n",
      "  'image_url': 'https://astropedia.astrogeology.usgs.gov/download/Mars/Viking/valles_marineris_enhanced.tif/full.jpg'}]\n"
     ]
    }
   ],
   "source": [
    "pprint(hemisphere_list)"
   ]
  },
  {
   "cell_type": "code",
   "execution_count": 288,
   "metadata": {},
   "outputs": [],
   "source": [
    "#executable_path = {'executable_path':'./chromedriver.exe'}  \n",
    "#browser = Browser(\"chrome\", **executable_path, headless=False)\n",
    "#img_clean_title = 'Cerberus_Enhanced'\n",
    "#img_url = 'https://astrogeology.usgs.gov/search/map/Mars/Viking/'+img_clean_title\n",
    "#print(img_url)\n",
    "#browser.visit(img_url)\n",
    "#time.sleep(1)\n",
    "#browser.find_link_by_text('Sample').first.click()\n",
    "#time.sleep(1)\n",
    "#browser.windows.current = browser.windows[-1] #the image window is set as the current window\n",
    "#img_html = browser.html  #the html for the image window is pulled\n",
    "#browser.windows[0].close() # closes the original window,leaving only the image window\n",
    "#img_soup = BeautifulSoup(img_html, \"html.parser\")\n",
    "#pprint(img_soup)\n",
    "#print(img_html)\n",
    "#print(img_soup)\n",
    "#final_img_url = img_soup.find('img')['src']\n",
    "#print(final_img_url)"
   ]
  }
 ],
 "metadata": {
  "kernelspec": {
   "display_name": "Python 3",
   "language": "python",
   "name": "python3"
  },
  "language_info": {
   "codemirror_mode": {
    "name": "ipython",
    "version": 3
   },
   "file_extension": ".py",
   "mimetype": "text/x-python",
   "name": "python",
   "nbconvert_exporter": "python",
   "pygments_lexer": "ipython3",
   "version": "3.7.0"
  }
 },
 "nbformat": 4,
 "nbformat_minor": 2
}
